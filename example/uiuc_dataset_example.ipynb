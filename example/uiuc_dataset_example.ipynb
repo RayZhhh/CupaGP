{
 "cells": [
  {
   "cell_type": "code",
   "execution_count": 6,
   "metadata": {
    "collapsed": true,
    "pycharm": {
     "name": "#%%\n"
    }
   },
   "outputs": [],
   "source": [
    "from PIL import Image\n",
    "import os\n",
    "\n",
    "import sys\n",
    "\n",
    "sys.path.append('../')\n",
    "from cupagp.classifier import BinaryClassifier\n",
    "import numpy as np"
   ]
  },
  {
   "cell_type": "markdown",
   "source": [
    "Load dataset and label set from file."
   ],
   "metadata": {
    "collapsed": false,
    "pycharm": {
     "name": "#%% md\n"
    }
   }
  },
  {
   "cell_type": "code",
   "execution_count": 7,
   "outputs": [
    {
     "name": "stdout",
     "output_type": "stream",
     "text": [
      "data shape: (1050, 40, 100); label shape: (1050,)\n"
     ]
    }
   ],
   "source": [
    "IH = 40\n",
    "IW = 100\n",
    "\n",
    "data = np.array([])\n",
    "label = np.array([])\n",
    "\n",
    "for root, ds, fs in os.walk('../datasets/uiuc/pos/'):\n",
    "    num = 0\n",
    "    for f in fs:\n",
    "        image = Image.open('../datasets/uiuc/pos/' + f).convert('L')\n",
    "        image = image.resize((IH, IW))\n",
    "        image_arr = np.array(image).astype(float)\n",
    "        # add to data and label\n",
    "        data = np.append(data, image_arr)\n",
    "        label = np.append(label, [1])\n",
    "\n",
    "for root, ds, fs in os.walk('../datasets/uiuc/neg/'):\n",
    "    num = 0\n",
    "    for f in fs:\n",
    "        image = Image.open('../datasets/uiuc/neg/' + f).convert('L')\n",
    "        image = image.resize((IH, IW))\n",
    "        image_arr = np.array(image).astype(float)\n",
    "        # add to data and label\n",
    "        data = np.append(data, image_arr)\n",
    "        label = np.append(label, [0])\n",
    "\n",
    "data = data.reshape(-1, IH, IW)\n",
    "print(f'data shape: {data.shape}; label shape: {label.shape}')"
   ],
   "metadata": {
    "collapsed": false,
    "pycharm": {
     "name": "#%%\n"
    }
   }
  },
  {
   "cell_type": "markdown",
   "source": [
    "Shuffle dataset and label."
   ],
   "metadata": {
    "collapsed": false,
    "pycharm": {
     "name": "#%% md\n"
    }
   }
  },
  {
   "cell_type": "code",
   "execution_count": 8,
   "outputs": [],
   "source": [
    "# shuffle\n",
    "data_label = list(zip(data, label))\n",
    "np.random.shuffle(data_label)\n",
    "data, label = zip(*data_label)\n",
    "data, label = np.array(data), np.array(label)"
   ],
   "metadata": {
    "collapsed": false,
    "pycharm": {
     "name": "#%%\n"
    }
   }
  },
  {
   "cell_type": "markdown",
   "source": [
    "Split train set and test set."
   ],
   "metadata": {
    "collapsed": false,
    "pycharm": {
     "name": "#%% md\n"
    }
   }
  },
  {
   "cell_type": "code",
   "execution_count": 9,
   "outputs": [
    {
     "name": "stdout",
     "output_type": "stream",
     "text": [
      "train data shape: (786, 40, 100); valid data shape: (132, 40, 100); test data shape: (132, 40, 100)\n"
     ]
    }
   ],
   "source": [
    "size = len(data)\n",
    "train_size = size // 4 * 3\n",
    "train_data, train_label, test_data, test_label = data[:train_size], label[:train_size], \\\n",
    "                                                 data[train_size:], label[train_size:]\n",
    "\n",
    "size = len(test_data) // 2\n",
    "valid_data, valid_label = test_data[:size], test_label[:size]\n",
    "test_data, test_label = test_data[size:], test_label[size:]\n",
    "print(f'train data shape: {train_data.shape}; valid data shape: {valid_data.shape}; test data shape: {test_data.shape}')"
   ],
   "metadata": {
    "collapsed": false,
    "pycharm": {
     "name": "#%%\n"
    }
   }
  },
  {
   "cell_type": "markdown",
   "source": [
    "Create a binary classifier and send train_data, train_label, test_data, test_label to it.\n",
    "This cell uses 'py_cuda' as cuda backend.\n",
    "The arg 'eval_batch' is set to 20 to avoid memory allocate failed on the GPU."
   ],
   "metadata": {
    "collapsed": false,
    "pycharm": {
     "name": "#%% md\n"
    }
   }
  },
  {
   "cell_type": "code",
   "execution_count": 10,
   "outputs": [
    {
     "name": "stdout",
     "output_type": "stream",
     "text": [
      "[ Generation   ]  0\n",
      "[ Best Fitness ]  0.7404580152671756\n",
      "[ Best Program ]  [ Sub Sub G_Std LoG2 Lap Region_S(13, 0, 26, 26) Sub Sub G_Std Region_S(4, 39, 25, 25) G_Std Region_S(20, 26, 20, 20) Sub G_Std Region_S(15, 41, 21, 21) G_Std Region_R(10, 56, 30, 36) Sub G_Std Lap Gau11 Region_R(2, 27, 38, 46) G_Std Gau11 Gau1 Region_S(1, 73, 23, 23) ]\n",
      "\n",
      "[ Generation   ]  1\n",
      "[ Best Fitness ]  0.8269720101781171\n",
      "[ Best Program ]  [ Sub Sub G_Std Sobel_X Region_S(12, 45, 26, 26) G_Std LBP GauXY Region_S(12, 32, 26, 26) Sub Sub Sub G_Std Region_S(16, 70, 21, 21) G_Std Region_S(14, 40, 21, 21) Sub G_Std Region_R(19, 74, 21, 21) G_Std Region_R(4, 33, 25, 62) G_Std Gau1 Region_R(17, 30, 23, 39) ]\n",
      "\n",
      "[ Generation   ]  2\n",
      "[ Best Fitness ]  0.8651399491094147\n",
      "[ Best Program ]  [ Sub Sub G_Std Sobel_X Region_R(18, 48, 22, 25) G_Std LBP GauXY Region_S(12, 32, 26, 26) Sub Sub Sub G_Std Region_S(16, 70, 21, 21) G_Std Region_S(14, 40, 21, 21) Sub G_Std Region_R(19, 74, 21, 21) G_Std Region_R(4, 33, 25, 62) G_Std Gau1 Region_R(17, 30, 23, 39) ]\n",
      "\n",
      "[ Generation   ]  3\n",
      "[ Best Fitness ]  0.8702290076335878\n",
      "[ Best Program ]  [ Sub Sub G_Std Sobel_X Region_R(18, 48, 22, 25) G_Std LBP GauXY Region_S(12, 32, 26, 26) Sub Sub Sub G_Std Region_R(3, 22, 21, 65) G_Std Region_S(14, 40, 21, 21) Sub G_Std Region_R(19, 74, 21, 21) G_Std Region_R(4, 33, 25, 62) G_Std Gau1 Region_R(17, 30, 23, 39) ]\n",
      "\n",
      "[ Generation   ]  4\n",
      "[ Best Fitness ]  0.8829516539440203\n",
      "[ Best Program ]  [ Sub Sub G_Std Sobel_X Region_R(12, 12, 28, 22) G_Std LBP GauXY Region_S(12, 32, 26, 26) Sub Sub Sub G_Std Region_S(4, 73, 22, 22) G_Std GauXY Sobel_X Region_S(15, 65, 23, 23) Sub G_Std Region_R(19, 74, 21, 21) G_Std Region_R(4, 33, 25, 62) G_Std Gau1 Region_R(17, 30, 23, 39) ]\n",
      "\n",
      "[ Generation   ]  5\n",
      "[ Best Fitness ]  0.9007633587786259\n",
      "[ Best Program ]  [ Sub Sub G_Std Sobel_X Region_R(18, 48, 22, 25) G_Std LBP GauXY Region_S(19, 18, 21, 21) Sub Sub Sub G_Std Region_S(16, 70, 21, 21) G_Std Region_S(14, 40, 21, 21) Sub G_Std Region_R(7, 30, 29, 53) G_Std Region_R(4, 33, 25, 62) G_Std Gau1 Region_R(17, 30, 23, 39) ]\n",
      "\n",
      "[ Generation   ]  6\n",
      "[ Best Fitness ]  0.9007633587786259\n",
      "[ Best Program ]  [ Sub Sub G_Std Sobel_X Region_R(18, 48, 22, 25) G_Std LBP GauXY Region_S(19, 18, 21, 21) Sub Sub Sub G_Std Region_S(16, 70, 21, 21) G_Std Region_S(14, 40, 21, 21) Sub G_Std Region_R(7, 30, 29, 53) G_Std Region_R(4, 33, 25, 62) G_Std Gau1 Region_R(17, 30, 23, 39) ]\n",
      "\n",
      "[ Generation   ]  7\n",
      "[ Best Fitness ]  0.905852417302799\n",
      "[ Best Program ]  [ Sub Sub G_Std Sobel_X Region_R(18, 48, 22, 25) G_Std LBP GauXY Region_S(19, 18, 21, 21) Sub Sub Sub G_Std Region_S(2, 75, 24, 24) G_Std Region_S(14, 40, 21, 21) Sub G_Std Region_R(7, 30, 29, 53) G_Std Region_R(4, 33, 25, 62) G_Std Gau1 Region_R(17, 30, 23, 39) ]\n",
      "\n",
      "[ Generation   ]  8\n",
      "[ Best Fitness ]  0.9134860050890585\n",
      "[ Best Program ]  [ Sub Sub G_Std Sobel_X Region_R(18, 48, 22, 25) G_Std LBP GauXY Region_S(19, 18, 21, 21) Sub Sub Sub G_Std Region_R(3, 22, 21, 65) G_Std Region_S(14, 40, 21, 21) Sub G_Std Region_R(7, 30, 29, 53) G_Std Region_R(2, 22, 31, 54) G_Std Gau1 Region_R(17, 30, 23, 39) ]\n",
      "\n",
      "[ Generation   ]  9\n",
      "[ Best Fitness ]  0.9134860050890585\n",
      "[ Best Program ]  [ Sub Sub G_Std Sobel_X Region_R(18, 48, 22, 25) G_Std LBP GauXY Region_S(19, 18, 21, 21) Sub Sub Sub G_Std Region_R(3, 22, 21, 65) G_Std Region_S(14, 40, 21, 21) Sub G_Std Region_R(7, 30, 29, 53) G_Std Region_R(2, 22, 31, 54) G_Std Gau1 Region_R(17, 30, 23, 39) ]\n",
      "\n",
      "[ Generation   ]  10\n",
      "[ Best Fitness ]  0.9147582697201018\n",
      "[ Best Program ]  [ Sub Sub G_Std Sobel_X Region_R(12, 12, 28, 22) G_Std LBP GauXY Region_R(20, 0, 20, 72) Sub Sub Sub G_Std Region_S(4, 73, 22, 22) G_Std GauXY Sobel_X Region_R(18, 48, 22, 25) Sub G_Std Region_R(19, 74, 21, 21) G_Std Region_R(4, 33, 25, 62) G_Std Gau1 Region_R(18, 48, 22, 25) ]\n",
      "\n",
      "[ Generation   ]  11\n",
      "[ Best Fitness ]  0.9223918575063613\n",
      "[ Best Program ]  [ Sub Sub G_Std Sobel_X Region_R(18, 48, 22, 25) G_Std LBP GauXY Region_S(19, 18, 21, 21) Sub Sub Sub G_Std Region_R(3, 22, 21, 65) G_Std GauXY Sobel_X Region_R(17, 59, 23, 34) Sub G_Std Gau1 Region_R(17, 30, 23, 39) G_Std Region_R(2, 22, 31, 54) G_Std Gau1 Region_R(17, 30, 23, 39) ]\n",
      "\n",
      "[ Generation   ]  12\n",
      "[ Best Fitness ]  0.9223918575063613\n",
      "[ Best Program ]  [ Sub Sub G_Std Sobel_X Region_R(18, 48, 22, 25) G_Std LBP GauXY Region_S(19, 18, 21, 21) Sub Sub Sub G_Std Region_R(3, 22, 21, 65) G_Std GauXY Sobel_X Region_R(17, 59, 23, 34) Sub G_Std Gau1 Region_R(17, 30, 23, 39) G_Std Region_R(2, 22, 31, 54) G_Std Gau1 Region_R(17, 30, 23, 39) ]\n",
      "\n",
      "[ Generation   ]  13\n",
      "[ Best Fitness ]  0.9274809160305344\n",
      "[ Best Program ]  [ Sub Sub G_Std Sobel_X Region_R(6, 4, 33, 27) G_Std LBP GauXY Region_S(19, 18, 21, 21) Sub Sub Sub G_Std Region_R(1, 36, 33, 40) G_Std Region_S(14, 40, 21, 21) Sub G_Std GauXY Sobel_X Region_R(17, 59, 23, 34) G_Std Region_R(4, 33, 25, 62) G_Std Gau1 Region_S(16, 35, 21, 21) ]\n",
      "\n",
      "[ Generation   ]  14\n",
      "[ Best Fitness ]  0.9274809160305344\n",
      "[ Best Program ]  [ Sub Sub G_Std Sobel_X Region_R(6, 4, 33, 27) G_Std LBP GauXY Region_S(19, 18, 21, 21) Sub Sub Sub G_Std Region_R(1, 36, 33, 40) G_Std Region_S(14, 40, 21, 21) Sub G_Std GauXY Sobel_X Region_R(17, 59, 23, 34) G_Std Region_R(4, 33, 25, 62) G_Std Gau1 Region_S(16, 35, 21, 21) ]\n",
      "\n",
      "[ Generation   ]  15\n",
      "[ Best Fitness ]  0.9300254452926209\n",
      "[ Best Program ]  [ Sub Sub G_Std Sobel_X Region_R(7, 58, 33, 41) G_Std LBP GauXY Region_S(19, 18, 21, 21) Sub Sub Sub G_Std Region_R(3, 22, 21, 65) G_Std GauXY Sobel_Y Region_R(17, 59, 23, 34) Sub G_Std Gau1 Region_R(17, 30, 23, 39) G_Std Region_R(2, 22, 31, 54) G_Std Gau1 GauXY Sobel_X Region_R(17, 59, 23, 34) ]\n",
      "\n",
      "[ Generation   ]  16\n",
      "[ Best Fitness ]  0.9300254452926209\n",
      "[ Best Program ]  [ Sub Sub G_Std Sobel_X Region_R(7, 58, 33, 41) G_Std LBP GauXY Region_S(19, 18, 21, 21) Sub Sub Sub G_Std Region_R(3, 22, 21, 65) G_Std GauXY Sobel_Y Region_R(17, 59, 23, 34) Sub G_Std Gau1 Region_R(17, 30, 23, 39) G_Std Region_R(2, 22, 31, 54) G_Std Gau1 GauXY Sobel_X Region_R(17, 59, 23, 34) ]\n",
      "\n",
      "[ Generation   ]  17\n",
      "[ Best Fitness ]  0.9300254452926209\n",
      "[ Best Program ]  [ Sub Sub G_Std Sobel_X Region_R(7, 58, 33, 41) G_Std LBP GauXY Region_S(19, 18, 21, 21) Sub Sub Sub G_Std Region_R(3, 22, 21, 65) G_Std GauXY Sobel_Y Region_R(17, 59, 23, 34) Sub G_Std Gau1 Region_R(17, 30, 23, 39) G_Std Region_R(2, 22, 31, 54) G_Std Gau1 GauXY Sobel_X Region_R(17, 59, 23, 34) ]\n",
      "\n",
      "[ Generation   ]  18\n",
      "[ Best Fitness ]  0.9300254452926209\n",
      "[ Best Program ]  [ Sub Sub G_Std Sobel_X Region_R(7, 58, 33, 41) G_Std LBP GauXY Region_S(19, 18, 21, 21) Sub Sub Sub G_Std Region_R(3, 22, 21, 65) G_Std GauXY Sobel_Y Region_R(17, 59, 23, 34) Sub G_Std Gau1 Region_R(17, 30, 23, 39) G_Std Region_R(2, 22, 31, 54) G_Std Gau1 GauXY Sobel_X Region_R(17, 59, 23, 34) ]\n",
      "\n",
      "[ Generation   ]  19\n",
      "[ Best Fitness ]  0.9300254452926209\n",
      "[ Best Program ]  [ Sub Sub G_Std Sobel_X Region_R(7, 58, 33, 41) G_Std LBP GauXY Region_S(19, 18, 21, 21) Sub Sub Sub G_Std Region_R(3, 22, 21, 65) G_Std GauXY Sobel_Y Region_R(17, 59, 23, 34) Sub G_Std Gau1 Region_R(17, 30, 23, 39) G_Std Region_R(2, 22, 31, 54) G_Std Gau1 GauXY Sobel_X Region_R(17, 59, 23, 34) ]\n",
      "\n",
      "[ Generation   ]  20\n",
      "[ Best Fitness ]  0.9300254452926209\n",
      "[ Best Program ]  [ Sub Sub G_Std Sobel_X Region_R(7, 58, 33, 41) G_Std LBP GauXY Region_S(19, 18, 21, 21) Sub Sub Sub G_Std Region_R(3, 22, 21, 65) G_Std GauXY Sobel_Y Region_R(17, 59, 23, 34) Sub G_Std Gau1 Region_R(17, 30, 23, 39) G_Std Region_R(2, 22, 31, 54) G_Std Gau1 GauXY Sobel_X Region_R(17, 59, 23, 34) ]\n",
      "\n",
      "[ Generation   ]  21\n",
      "[ Best Fitness ]  0.9300254452926209\n",
      "[ Best Program ]  [ Sub Sub G_Std Sobel_X Region_R(7, 58, 33, 41) G_Std LBP GauXY Region_S(19, 18, 21, 21) Sub Sub Sub G_Std Region_R(3, 22, 21, 65) G_Std GauXY Sobel_Y Region_R(17, 59, 23, 34) Sub G_Std Gau1 Region_R(17, 30, 23, 39) G_Std Region_R(2, 22, 31, 54) G_Std Gau1 GauXY Sobel_X Region_R(17, 59, 23, 34) ]\n",
      "\n",
      "[ Generation   ]  22\n",
      "[ Best Fitness ]  0.9300254452926209\n",
      "[ Best Program ]  [ Sub Sub G_Std Sobel_X Region_R(7, 58, 33, 41) G_Std LBP GauXY Region_S(19, 18, 21, 21) Sub Sub Sub G_Std Region_R(3, 22, 21, 65) G_Std GauXY Sobel_Y Region_R(17, 59, 23, 34) Sub G_Std Gau1 Region_R(17, 30, 23, 39) G_Std Region_R(2, 22, 31, 54) G_Std Gau1 GauXY Sobel_X Region_R(17, 59, 23, 34) ]\n",
      "\n",
      "[ Generation   ]  23\n",
      "[ Best Fitness ]  0.9312977099236641\n",
      "[ Best Program ]  [ Sub Sub G_Std Sobel_X Region_R(6, 4, 33, 27) G_Std LBP GauXY Region_S(19, 18, 21, 21) Sub Sub Sub G_Std Region_R(1, 36, 33, 40) G_Std Region_S(14, 40, 21, 21) Sub G_Std GauXY Sobel_X Region_R(17, 59, 23, 34) G_Std Region_R(0, 41, 20, 42) G_Std Gau1 Region_S(14, 40, 21, 21) ]\n",
      "\n",
      "[ Generation   ]  24\n",
      "[ Best Fitness ]  0.9325699745547074\n",
      "[ Best Program ]  [ Sub Sub G_Std Sobel_X Region_R(6, 4, 33, 27) G_Std LBP GauXY Region_S(19, 18, 21, 21) Sub Sub Sub G_Std Region_R(1, 3, 31, 68) G_Std Region_S(14, 40, 21, 21) Sub G_Std GauXY Sobel_X Region_R(17, 59, 23, 34) G_Std Region_R(0, 41, 20, 42) G_Std Gau1 Region_S(14, 40, 21, 21) ]\n",
      "\n",
      "[ Generation   ]  25\n",
      "[ Best Fitness ]  0.9325699745547074\n",
      "[ Best Program ]  [ Sub Sub G_Std Sobel_X Region_R(6, 4, 33, 27) G_Std LBP GauXY Region_S(19, 18, 21, 21) Sub Sub Sub G_Std Region_R(1, 3, 31, 68) G_Std Region_S(14, 40, 21, 21) Sub G_Std GauXY Sobel_X Region_R(17, 59, 23, 34) G_Std Region_R(0, 41, 20, 42) G_Std Gau1 Region_S(14, 40, 21, 21) ]\n",
      "\n",
      "[ Generation   ]  26\n",
      "[ Best Fitness ]  0.9325699745547074\n",
      "[ Best Program ]  [ Sub Sub G_Std Sobel_X Region_R(6, 4, 33, 27) G_Std LBP GauXY Region_S(19, 18, 21, 21) Sub Sub Sub G_Std Region_R(1, 3, 31, 68) G_Std Region_S(14, 40, 21, 21) Sub G_Std GauXY Sobel_X Region_R(17, 59, 23, 34) G_Std Region_R(0, 41, 20, 42) G_Std Gau1 Region_S(14, 40, 21, 21) ]\n",
      "\n",
      "[ Generation   ]  27\n",
      "[ Best Fitness ]  0.9325699745547074\n",
      "[ Best Program ]  [ Sub Sub G_Std Sobel_X Region_R(6, 4, 33, 27) G_Std LBP GauXY Region_S(19, 18, 21, 21) Sub Sub Sub G_Std Region_R(1, 3, 31, 68) G_Std Region_S(14, 40, 21, 21) Sub G_Std GauXY Sobel_X Region_R(17, 59, 23, 34) G_Std Region_R(0, 41, 20, 42) G_Std Gau1 Region_S(14, 40, 21, 21) ]\n",
      "\n",
      "[ Generation   ]  28\n",
      "[ Best Fitness ]  0.9325699745547074\n",
      "[ Best Program ]  [ Sub Sub G_Std Sobel_X Region_R(6, 4, 33, 27) G_Std LBP GauXY Region_S(19, 18, 21, 21) Sub Sub Sub G_Std Region_R(1, 3, 31, 68) G_Std Region_S(14, 40, 21, 21) Sub G_Std GauXY Sobel_X Region_R(17, 59, 23, 34) G_Std Region_R(0, 41, 20, 42) G_Std Gau1 Region_S(14, 40, 21, 21) ]\n",
      "\n",
      "[ Generation   ]  29\n",
      "[ Best Fitness ]  0.9338422391857506\n",
      "[ Best Program ]  [ Sub Sub G_Std Sobel_X Region_R(6, 4, 33, 27) G_Std LBP GauXY Region_S(19, 18, 21, 21) Sub Sub Sub G_Std Region_R(2, 22, 31, 54) G_Std Region_S(14, 40, 21, 21) Sub G_Std GauXY Sobel_X Region_S(19, 18, 21, 21) G_Std Region_R(0, 41, 20, 42) G_Std Gau1 Region_R(17, 30, 23, 39) ]\n",
      "\n",
      "[ Generation   ]  30\n",
      "[ Best Fitness ]  0.9363867684478372\n",
      "[ Best Program ]  [ Sub Sub G_Std Sobel_X Region_R(6, 4, 33, 27) G_Std LBP GauXY Region_R(20, 60, 20, 34) Sub Sub Sub G_Std Region_R(1, 3, 31, 68) G_Std Region_S(19, 18, 21, 21) Sub G_Std GauXY Sobel_X Region_R(17, 59, 23, 34) G_Std Region_R(0, 41, 20, 42) G_Std Gau1 Region_S(14, 40, 21, 21) ]\n",
      "\n",
      "[ Generation   ]  31\n",
      "[ Best Fitness ]  0.9363867684478372\n",
      "[ Best Program ]  [ Sub Sub G_Std Sobel_X Region_R(6, 4, 33, 27) G_Std LBP GauXY Region_R(20, 60, 20, 34) Sub Sub Sub G_Std Region_R(1, 3, 31, 68) G_Std Region_S(19, 18, 21, 21) Sub G_Std GauXY Sobel_X Region_R(17, 59, 23, 34) G_Std Region_R(0, 41, 20, 42) G_Std Gau1 Region_S(14, 40, 21, 21) ]\n",
      "\n",
      "[ Generation   ]  32\n",
      "[ Best Fitness ]  0.9363867684478372\n",
      "[ Best Program ]  [ Sub Sub G_Std Sobel_X Region_R(6, 4, 33, 27) G_Std LBP GauXY Region_R(20, 60, 20, 34) Sub Sub Sub G_Std Region_R(1, 3, 31, 68) G_Std Region_S(19, 18, 21, 21) Sub G_Std GauXY Sobel_X Region_R(17, 59, 23, 34) G_Std Region_R(0, 41, 20, 42) G_Std Gau1 Region_S(14, 40, 21, 21) ]\n",
      "\n",
      "[ Generation   ]  33\n",
      "[ Best Fitness ]  0.9363867684478372\n",
      "[ Best Program ]  [ Sub Sub G_Std Sobel_X Region_R(6, 4, 33, 27) G_Std LBP GauXY Region_R(20, 60, 20, 34) Sub Sub Sub G_Std Region_R(1, 3, 31, 68) G_Std Region_S(19, 18, 21, 21) Sub G_Std GauXY Sobel_X Region_R(17, 59, 23, 34) G_Std Region_R(0, 41, 20, 42) G_Std Gau1 Region_S(14, 40, 21, 21) ]\n",
      "\n",
      "[ Generation   ]  34\n",
      "[ Best Fitness ]  0.9376590330788804\n",
      "[ Best Program ]  [ Sub Sub G_Std Sobel_X Region_R(6, 4, 33, 27) G_Std LBP GauXY Region_S(19, 60, 20, 20) Sub Sub Sub G_Std Region_R(1, 3, 31, 68) G_Std GauXY Sobel_X Region_R(17, 59, 23, 34) Sub G_Std Region_R(12, 34, 24, 59) G_Std Region_R(0, 41, 20, 42) G_Std Gau1 Gau1 Region_S(14, 40, 21, 21) ]\n",
      "\n",
      "[ Generation   ]  35\n",
      "[ Best Fitness ]  0.9389312977099237\n",
      "[ Best Program ]  [ Sub Sub G_Std Sobel_X Region_R(6, 4, 33, 27) G_Std LBP GauXY Region_S(19, 60, 20, 20) Sub Sub Sub G_Std Region_R(1, 3, 31, 68) G_Std GauXY Sobel_X Region_R(17, 59, 23, 34) Sub G_Std Region_S(19, 18, 21, 21) G_Std Region_R(0, 41, 20, 42) G_Std Gau1 Gau1 Region_S(14, 40, 21, 21) ]\n",
      "\n",
      "[ Generation   ]  36\n",
      "[ Best Fitness ]  0.9389312977099237\n",
      "[ Best Program ]  [ Sub Sub G_Std Sobel_X Region_R(6, 4, 33, 27) G_Std LBP GauXY Region_S(19, 60, 20, 20) Sub Sub Sub G_Std Region_R(1, 3, 31, 68) G_Std GauXY Sobel_X Region_R(17, 59, 23, 34) Sub G_Std Region_S(19, 18, 21, 21) G_Std Region_R(0, 41, 20, 42) G_Std Gau1 Gau1 Region_S(14, 40, 21, 21) ]\n",
      "\n",
      "[ Generation   ]  37\n",
      "[ Best Fitness ]  0.9389312977099237\n",
      "[ Best Program ]  [ Sub Sub G_Std Sobel_X Region_R(6, 4, 33, 27) G_Std LBP GauXY Region_S(19, 60, 20, 20) Sub Sub Sub G_Std Region_R(1, 3, 31, 68) G_Std GauXY Sobel_X Region_R(17, 59, 23, 34) Sub G_Std Region_S(19, 18, 21, 21) G_Std Region_R(0, 41, 20, 42) G_Std Gau1 Gau1 Region_S(14, 40, 21, 21) ]\n",
      "\n",
      "[ Generation   ]  38\n",
      "[ Best Fitness ]  0.9389312977099237\n",
      "[ Best Program ]  [ Sub Sub G_Std Sobel_X Region_R(6, 4, 33, 27) G_Std LBP GauXY Region_S(19, 60, 20, 20) Sub Sub Sub G_Std Region_R(1, 3, 31, 68) G_Std GauXY Sobel_X Region_R(17, 59, 23, 34) Sub G_Std Region_S(19, 18, 21, 21) G_Std Region_R(0, 41, 20, 42) G_Std Gau1 Gau1 Region_S(14, 40, 21, 21) ]\n",
      "\n",
      "[ Generation   ]  39\n",
      "[ Best Fitness ]  0.9389312977099237\n",
      "[ Best Program ]  [ Sub Sub G_Std Sobel_X Region_R(6, 4, 33, 27) G_Std LBP GauXY Region_S(19, 60, 20, 20) Sub Sub Sub G_Std Region_R(1, 3, 31, 68) G_Std GauXY Sobel_X Region_R(17, 59, 23, 34) Sub G_Std Region_S(19, 18, 21, 21) G_Std Region_R(0, 41, 20, 42) G_Std Gau1 Gau1 Region_S(14, 40, 21, 21) ]\n",
      "\n",
      "[ Generation   ]  40\n",
      "[ Best Fitness ]  0.9402035623409669\n",
      "[ Best Program ]  [ Sub Sub G_Std Sobel_X Region_R(6, 4, 33, 27) G_Std LBP GauXY Region_S(19, 60, 20, 20) Sub Sub Sub G_Std Region_R(6, 4, 33, 27) G_Std GauXY Sobel_X Region_R(16, 21, 23, 31) Sub G_Std Region_S(19, 18, 21, 21) G_Std Region_R(0, 41, 20, 42) G_Std Gau1 Gau1 Region_S(14, 40, 21, 21) ]\n",
      "\n",
      "[ Generation   ]  41\n",
      "[ Best Fitness ]  0.9402035623409669\n",
      "[ Best Program ]  [ Sub Sub G_Std Sobel_X Region_R(6, 4, 33, 27) G_Std LBP GauXY Region_S(19, 60, 20, 20) Sub Sub Sub G_Std Region_R(6, 4, 33, 27) G_Std GauXY Sobel_X Region_R(16, 21, 23, 31) Sub G_Std Region_S(19, 18, 21, 21) G_Std Region_R(0, 41, 20, 42) G_Std Gau1 Gau1 Region_S(14, 40, 21, 21) ]\n",
      "\n",
      "[ Generation   ]  42\n",
      "[ Best Fitness ]  0.9402035623409669\n",
      "[ Best Program ]  [ Sub Sub G_Std Sobel_X Region_R(6, 4, 33, 27) G_Std LBP GauXY Region_S(19, 60, 20, 20) Sub Sub Sub G_Std Region_R(6, 4, 33, 27) G_Std GauXY Sobel_X Region_R(16, 21, 23, 31) Sub G_Std Region_S(19, 18, 21, 21) G_Std Region_R(0, 41, 20, 42) G_Std Gau1 Gau1 Region_S(14, 40, 21, 21) ]\n",
      "\n",
      "[ Generation   ]  43\n",
      "[ Best Fitness ]  0.9414758269720102\n",
      "[ Best Program ]  [ Sub Sub G_Std Sobel_X Region_R(6, 4, 33, 27) G_Std LBP GauXY Region_S(19, 60, 20, 20) Sub Sub Sub G_Std Region_R(1, 3, 31, 68) G_Std GauXY Sobel_X Region_R(17, 59, 23, 34) Sub G_Std Region_R(18, 36, 21, 28) G_Std Region_R(0, 41, 20, 42) G_Std Gau1 Gau1 Region_S(14, 40, 21, 21) ]\n",
      "\n",
      "[ Generation   ]  44\n",
      "[ Best Fitness ]  0.9414758269720102\n",
      "[ Best Program ]  [ Sub Sub G_Std Sobel_X Region_R(6, 4, 33, 27) G_Std LBP GauXY Region_S(19, 60, 20, 20) Sub Sub Sub G_Std Region_R(1, 3, 31, 68) G_Std GauXY Sobel_X Region_R(17, 59, 23, 34) Sub G_Std Region_R(18, 36, 21, 28) G_Std Region_R(0, 41, 20, 42) G_Std Gau1 Gau1 Region_S(14, 40, 21, 21) ]\n",
      "\n",
      "[ Generation   ]  45\n",
      "[ Best Fitness ]  0.9414758269720102\n",
      "[ Best Program ]  [ Sub Sub G_Std Sobel_X Region_R(6, 4, 33, 27) G_Std LBP GauXY Region_S(19, 60, 20, 20) Sub Sub Sub G_Std Region_R(1, 3, 31, 68) G_Std GauXY Sobel_X Region_R(17, 59, 23, 34) Sub G_Std Region_R(18, 36, 21, 28) G_Std Region_R(0, 41, 20, 42) G_Std Gau1 Gau1 Region_S(14, 40, 21, 21) ]\n",
      "\n",
      "[ Generation   ]  46\n",
      "[ Best Fitness ]  0.9414758269720102\n",
      "[ Best Program ]  [ Sub Sub G_Std Sobel_X Region_R(6, 4, 33, 27) G_Std LBP GauXY Region_S(19, 60, 20, 20) Sub Sub Sub G_Std Region_R(1, 3, 31, 68) G_Std GauXY Sobel_X Region_R(17, 59, 23, 34) Sub G_Std Region_R(18, 36, 21, 28) G_Std Region_R(0, 41, 20, 42) G_Std Gau1 Gau1 Region_S(14, 40, 21, 21) ]\n",
      "\n",
      "[ Generation   ]  47\n",
      "[ Best Fitness ]  0.9414758269720102\n",
      "[ Best Program ]  [ Sub Sub G_Std Sobel_X Region_R(6, 4, 33, 27) G_Std LBP GauXY Region_S(19, 60, 20, 20) Sub Sub Sub G_Std Region_R(1, 3, 31, 68) G_Std GauXY Sobel_X Region_R(17, 59, 23, 34) Sub G_Std Region_R(18, 36, 21, 28) G_Std Region_R(0, 41, 20, 42) G_Std Gau1 Gau1 Region_S(14, 40, 21, 21) ]\n",
      "\n",
      "[ Generation   ]  48\n",
      "[ Best Fitness ]  0.9414758269720102\n",
      "[ Best Program ]  [ Sub Sub G_Std Sobel_X Region_R(6, 4, 33, 27) G_Std LBP GauXY Region_S(19, 60, 20, 20) Sub Sub Sub G_Std Region_R(1, 3, 31, 68) G_Std GauXY Sobel_X Region_R(17, 59, 23, 34) Sub G_Std Region_R(18, 36, 21, 28) G_Std Region_R(0, 41, 20, 42) G_Std Gau1 Gau1 Region_S(14, 40, 21, 21) ]\n",
      "\n",
      "[ Generation   ]  49\n",
      "[ Best Fitness ]  0.9414758269720102\n",
      "[ Best Program ]  [ Sub Sub G_Std Sobel_X Region_R(6, 4, 33, 27) G_Std LBP GauXY Region_S(19, 60, 20, 20) Sub Sub Sub G_Std Region_R(1, 3, 31, 68) G_Std GauXY Sobel_X Region_R(17, 59, 23, 34) Sub G_Std Region_R(18, 36, 21, 28) G_Std Region_R(0, 41, 20, 42) G_Std Gau1 Gau1 Region_S(14, 40, 21, 21) ]\n",
      "\n",
      "[ =========Run Test======== ]\n",
      "[ Valid set accuracy        ] 0.9015151515151515\n",
      "[ Best program in test data ] [ Sub Sub G_Std Sobel_X Region_R(18, 48, 22, 25) G_Std LBP GauXY Region_S(19, 18, 21, 21) Sub Sub Sub G_Std Region_R(3, 22, 21, 65) G_Std GauXY Sobel_X Region_R(17, 59, 23, 34) Sub G_Std Gau1 Region_R(17, 30, 23, 39) G_Std Region_R(2, 22, 31, 54) G_Std Gau1 Region_R(17, 30, 23, 39) ]\n",
      "[ Accuracy                  ] 0.9015151515151515\n",
      "\n"
     ]
    }
   ],
   "source": [
    "import time\n",
    "\n",
    "device = 'py_cuda'\n",
    "eval_batch = 70\n",
    "\n",
    "# if the two following args are set to None, the nvcc will automatically select one for compiling\n",
    "# this might have mistakes, so you can specify these two args\n",
    "# such as: cuda_arch = 'compute_75'; cuda_code = 'sm_75'\n",
    "cuda_arch = None\n",
    "cuda_code = None\n",
    "\n",
    "\n",
    "classifier = BinaryClassifier(train_data, train_label, valid_data, valid_label, test_data, test_label,\n",
    "                              eval_batch=eval_batch, device=device)\n",
    "\n",
    "# train\n",
    "classifier.train()\n",
    "\n",
    "# test\n",
    "classifier.run_test()\n",
    "\n",
    "# remove the reference, to make sure the device side memory space is cleared\n",
    "del classifier"
   ],
   "metadata": {
    "collapsed": false,
    "pycharm": {
     "name": "#%%\n"
    }
   }
  }
 ],
 "metadata": {
  "kernelspec": {
   "display_name": "Python 3",
   "language": "python",
   "name": "python3"
  },
  "language_info": {
   "codemirror_mode": {
    "name": "ipython",
    "version": 2
   },
   "file_extension": ".py",
   "mimetype": "text/x-python",
   "name": "python",
   "nbconvert_exporter": "python",
   "pygments_lexer": "ipython2",
   "version": "2.7.6"
  }
 },
 "nbformat": 4,
 "nbformat_minor": 0
}